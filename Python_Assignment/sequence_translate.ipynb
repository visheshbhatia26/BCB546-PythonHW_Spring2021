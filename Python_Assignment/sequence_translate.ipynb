{
 "cells": [
  {
   "cell_type": "code",
   "execution_count": 2,
   "metadata": {},
   "outputs": [
    {
     "name": "stdout",
     "output_type": "stream",
     "text": [
      "Requirement already satisfied: biopython in d:\\anaconda3\\lib\\site-packages (1.78)\n",
      "Requirement already satisfied: numpy in d:\\anaconda3\\lib\\site-packages (from biopython) (1.18.5)\n"
     ]
    }
   ],
   "source": [
    "!pip install biopython"
   ]
  },
  {
   "cell_type": "code",
   "execution_count": 1,
   "metadata": {
    "id": "NPNcAgpRYEpr"
   },
   "outputs": [],
   "source": [
    "from Bio import SeqIO\n",
    "from Bio.Seq import Seq\n",
    "from Bio.Data import CodonTable\n",
    "import pandas as pd\n",
    "\n",
    "#%%%%%%%%%%%%%%%#\n",
    "### FUNCTIONS ###\n",
    "#%%%%%%%%%%%%%%%#\n",
    "\n",
    "## 1 ##\n",
    "## Dr. X: this gets sequences \n",
    "## Please finish documenting this function with comments, or in notebook markdown text\n",
    "## Your descriptions of all functions should contain information about what the function does,\n",
    "## as well as information about the return types and arguments.\n",
    "def get_sequences_from_file(fasta_fn):\n",
    "   # this function takes in a .fasta file as an argument,\n",
    "   # which is used as an input and\n",
    "   # outputs a set containing sequences. \n",
    "   # For each data entry in the input file,\n",
    "   # a sequence is selected based on the species name.\n",
    "   # return type = set containing keys(species name) and values(sequences)\n",
    "   \n",
    "    sequence_data_dict = {}\n",
    "    for record in SeqIO.parse(fasta_fn, \"fasta\"):\n",
    "        description = record.description.split()\n",
    "        species_name = description[1] + \" \" + description[2]\n",
    "        sequence_data_dict[species_name] = record.seq\n",
    "    return(sequence_data_dict)"
   ]
  },
  {
   "cell_type": "code",
   "execution_count": 2,
   "metadata": {
    "id": "bwNQypn9YEx5"
   },
   "outputs": [],
   "source": [
    "## 2 ##\n",
    "####### YOUR STRING-TRANSLATE FUNCTION ########\n",
    "## Write a function that translates sequences\n",
    "## All sequences start at codon position 1\n",
    "## Complete a function that translates using a loop over the string of nucleotides\n",
    "## Here is  some pseudo-code and suggestions\n",
    "## feel free to change the function and variable names\n",
    "def translate_function(string_nucleotides): \n",
    "    # get the data table associated with 'Vertebrate Mitochondrial' from the BioPython library\n",
    "    mito_table = CodonTable.unambiguous_dna_by_name[\"Vertebrate Mitochondrial\"]\n",
    "    \n",
    "    #initialize an empty string to store the translated sequence\n",
    "    aa_seq_string = '' \n",
    "    \n",
    "    # loop through the inpout string with a step size = 3\n",
    "    for i in range(1, len(string_nucleotides), 3):\n",
    "        \n",
    "      #get a codon of length = 3  \n",
    "      codon = string_nucleotides[i:i+3]\n",
    "\n",
    "      # now we check the end of the current codon for a stop\n",
    "      if codon in [\"TAA\", \"TAG\", \"AGA\", \"AGG\"]:\n",
    "        return aa_seq_string\n",
    "      # now we retrieve the amino acid and add it to sequence string(aa_seq_string)\n",
    "      aa_seq_string = aa_seq_string+mito_table.forward_table[codon]\n",
    "    return(aa_seq_string)"
   ]
  },
  {
   "cell_type": "code",
   "execution_count": 3,
   "metadata": {
    "id": "jNWJxT3LYPBM"
   },
   "outputs": [],
   "source": [
    "## 3 ##\n",
    "####### YOUR ALTERNATIVE FUNCTION ########\n",
    "## Is there a better way to write the translation function? (Hint: yes there is.) \n",
    "## Perhaps using available BioPython library utilities?\n",
    "## Please also write this function.\n",
    "\n",
    "def translate_viaLib(string_nucleotides):\n",
    "  # seq_string is the output sequence\n",
    "  # we use the translate function from BioPython library\n",
    "  # table=2 refers to ID=2 in the BioPython library for \"Vertebrate Mitochondrial\"\n",
    "  seq_string = Seq.translate(string_nucleotides, table=2, to_stop=True)\n",
    "  return seq_string\n"
   ]
  },
  {
   "cell_type": "code",
   "execution_count": 4,
   "metadata": {
    "id": "hiJbN89KYUYO"
   },
   "outputs": [],
   "source": [
    "## 4 ##\n",
    "####### YOUR COUNT AA ANALYSIS FUNCTION ########\n",
    "## Write a function that calculates the molecular weight of each amino acid sequence.\n",
    "## For this, you can use some BioPython functions. I think you can use the ProtParam module.\n",
    "## For more info, check this out: http://biopython.org/wiki/ProtParam\n",
    "## So you should import the following before defining your function:\n",
    "from Bio.SeqUtils.ProtParam import ProteinAnalysis\n",
    "\n",
    "def compute_molecular_weight(aa_seq):\n",
    "    \n",
    "    # use ProteinAnalysis and store its output on a temporary variable 'temp_aa'\n",
    "    temp_aa = ProteinAnalysis(aa_seq)\n",
    "    \n",
    "    # calculate molecular weight for temp_aa\n",
    "    mol_weight = temp_aa.molecular_weight()\n",
    "    return mol_weight"
   ]
  },
  {
   "cell_type": "code",
   "execution_count": 5,
   "metadata": {
    "id": "kzxmdanfY9Qq"
   },
   "outputs": [],
   "source": [
    "## 5 ##\n",
    "####### YOUR GC CONTENT ANALYSIS FUNCTION ########\n",
    "## Write a function that calculates the GC-content (proportion of \"G\" and \"C\") of each DNA sequence and returns this value.\n",
    "def gc_content(dna_string):\n",
    "    # get the number of times 'C' appears in the input dna string\n",
    "    c_count = dna_string.count(\"C\")\n",
    "    \n",
    "    # get the number of times 'G' appears in the input dna string\n",
    "    g_count = dna_string.count(\"G\")\n",
    "    \n",
    "    # get the length of the input dna string\n",
    "    string_length = len(dna_string)\n",
    "    \n",
    "    # calculate gc content\n",
    "    gc = (c_count+g_count)/string_length\n",
    "    return  gc\n"
   ]
  },
  {
   "cell_type": "code",
   "execution_count": 6,
   "metadata": {
    "colab": {
     "base_uri": "https://localhost:8080/"
    },
    "id": "vXPP4N1oZAUn",
    "outputId": "b614c919-aa6c-467a-de23-443171655ed8"
   },
   "outputs": [
    {
     "name": "stdout",
     "output_type": "stream",
     "text": [
      "{'Ursus spelaeus': Seq('ATGACCAACATCCGAAAAACCCATCCATTAGCTAAAATCATCAACAACTCATTT...AGA'), 'Ursus arctos': Seq('ATGACCAACATCCGAAAAACCCACCCATTAGCTAAAATCATCAACAACTCACTT...AGA'), 'Ursus thibetanus': Seq('ATGACCAACATCCGAAAAACCCATCCATTAGCCAAAATCATCAACAACTCACTC...AGA'), 'Melursus ursinus': Seq('ATGACCAACATCCGAAAAACCCACCCATTAGCTAAAATCATTAACAACTCACTC...AGA'), 'Ursus americanus': Seq('ATGACCAACATCCGAAAAACCCACCCATTAGCTAAAATCATCAACAACTCACTT...AGA'), 'Helarctos malayanus': Seq('ATGACCAACATCCGAAAAACCCACCCATTAGCTAAAATCATTAACAACTCACTT...AGA'), 'Ailuropoda melanoleuca': Seq('ATGATCAACATCCGAAAAACTCATCCATTAGTTAAAATTATCAACAACTCATTC...AGA'), 'Tremarctos ornatus': Seq('ATGACCAACATCCGAAAAACTCACCCACTAGCTAAAATCATCAACAGCTCATTC...AGA'), 'Ursus maritimus': Seq('ATGACCAACATCCGAAAAACCCACCCATTAGCTAAAATCATCAACAACTCATTT...AGA')}\n"
     ]
    }
   ],
   "source": [
    "#%%%%%%%%%%%%%%#\n",
    "###   MAIN   ###\n",
    "#%%%%%%%%%%%%%%#\n",
    "import numpy as np\n",
    "\n",
    "file1 = 'bears_cytb.fasta'\n",
    "cytb_seqs = get_sequences_from_file(file1) \n",
    "print(cytb_seqs)\n",
    "\n",
    "file2 = 'bears_mass.csv'\n",
    "bears_df = pd.read_csv(file2) # Includes only data for body mass \n",
    "species_list = list(bears_df.species)\n"
   ]
  },
  {
   "cell_type": "code",
   "execution_count": 7,
   "metadata": {
    "colab": {
     "base_uri": "https://localhost:8080/"
    },
    "id": "iEP1U8mgZF2I",
    "outputId": "069356d1-8cc9-48d3-b36a-c5bbaf71de3c"
   },
   "outputs": [
    {
     "name": "stdout",
     "output_type": "stream",
     "text": [
      "                  species     mass  molecular_weight  GC_content\n",
      "0          Ursus spelaeus  550.800               NaN         NaN\n",
      "1            Ursus arctos  203.500               NaN         NaN\n",
      "2        Ursus thibetanus   99.714               NaN         NaN\n",
      "3        Melursus ursinus  100.030               NaN         NaN\n",
      "4        Ursus americanus  110.560               NaN         NaN\n",
      "5     Helarctos malayanus   47.020               NaN         NaN\n",
      "6  Ailuropoda melanoleuca  118.200               NaN         NaN\n",
      "7      Tremarctos ornatus  140.700               NaN         NaN\n",
      "8         Ursus maritimus  425.100               NaN         NaN\n"
     ]
    }
   ],
   "source": [
    "## 6 ## \n",
    "## Add two new columns to the bears DataFrame: (1) molecular weight and (2) GC content.\n",
    "## Set the value to 'NaN' to indicate that these cells are currently empty.\n",
    "\n",
    "# add molecular_weight as a column and initialize all its values as NaN\n",
    "bears_df[\"molecular_weight\"] = np.nan\n",
    "\n",
    "# add GC_content as a column and initialize all its values as NaN\n",
    "bears_df[\"GC_content\"] = np.nan\n",
    "\n",
    "# print dataframe to check\n",
    "print(bears_df)"
   ]
  },
  {
   "cell_type": "code",
   "execution_count": 9,
   "metadata": {
    "colab": {
     "base_uri": "https://localhost:8080/"
    },
    "id": "f_rEAmKEZI6S",
    "outputId": "512660e2-772a-4f4a-9be1-5332e7e030f3"
   },
   "outputs": [
    {
     "name": "stdout",
     "output_type": "stream",
     "text": [
      "                  species     mass  molecular_weight  GC_content\n",
      "0          Ursus spelaeus  550.800        42458.7992    0.437719\n",
      "1            Ursus arctos  203.500        42414.7435    0.437719\n",
      "2        Ursus thibetanus   99.714        42306.6735    0.456140\n",
      "3        Melursus ursinus  100.030        42551.9900    0.451754\n",
      "4        Ursus americanus  110.560        42427.7439    0.439474\n",
      "5     Helarctos malayanus   47.020        42560.8910    0.442982\n",
      "6  Ailuropoda melanoleuca  118.200        42702.1845    0.407895\n",
      "7      Tremarctos ornatus  140.700        42384.8266    0.443860\n",
      "8         Ursus maritimus  425.100        42454.7873    0.442982\n"
     ]
    }
   ],
   "source": [
    "## 7 ##\n",
    "## Write a for-loop that translates each sequence and also gets molecular weight and computes the GC content\n",
    "## of each translated sequence and adds those data to DataFrame\n",
    "# for key, value in cytb_seqs.items():\n",
    "#     aa_seq = nuc2aa_translate_function(value) # whichever function you prefer of #2 or #3\n",
    "#     get the molecular weight of aa_seq\n",
    "#     get the GC content of the DNA sequence\n",
    "#     fill in empty cells in DF that you created above\n",
    "\n",
    "# initialize an empty list for molecular weight and GC content\n",
    "# this allows us to store all values in a single data structure\n",
    "molecular_wt_list = []\n",
    "gc_content_list = []\n",
    "\n",
    "# for loop through the species\n",
    "# key refers to species\n",
    "# value refers dna sequence associated\n",
    "# with each of the species.\n",
    "for key, value in cytb_seqs.items():\n",
    "    \n",
    "    # translate the initial dna sequence\n",
    "    aa_seq = translate_viaLib(value)\n",
    "    \n",
    "    # compute the molecular weight\n",
    "    mol_wt = compute_molecular_weight(str(aa_seq))\n",
    "    \n",
    "    # compute the GC content\n",
    "    gc_prop = gc_content(value)\n",
    "    \n",
    "    # append the computed values of GC_content and\n",
    "    # molecular_weight to our previously defined lists\n",
    "    molecular_wt_list.append(mol_wt)\n",
    "    gc_content_list.append(gc_prop)\n",
    "\n",
    "# update values from NaN to computed values\n",
    "# for molecular_weight and GC_content\n",
    "bears_df[\"molecular_weight\"] = molecular_wt_list\n",
    "bears_df[\"GC_content\"] = gc_content_list\n",
    "\n",
    "# print for a check\n",
    "print(bears_df)\n",
    "    "
   ]
  },
  {
   "cell_type": "code",
   "execution_count": 8,
   "metadata": {
    "colab": {
     "base_uri": "https://localhost:8080/",
     "height": 423
    },
    "id": "ZKjb-I0AZivX",
    "outputId": "1e483992-cd89-4b44-8f4e-ffa9d45c74fd"
   },
   "outputs": [
    {
     "data": {
      "text/plain": [
       "<AxesSubplot:title={'center':'Mass by species'}, xlabel='species'>"
      ]
     },
     "execution_count": 8,
     "metadata": {},
     "output_type": "execute_result"
    },
    {
     "data": {
      "image/png": "[encoded data removed]",
      "text/plain": [
       "<Figure size 432x288 with 1 Axes>"
      ]
     },
     "metadata": {
      "needs_background": "light"
     },
     "output_type": "display_data"
    }
   ],
   "source": [
    "## 8 ##\n",
    "## Plot a bar-chart of the mass with the x-axes labeled with species names.\n",
    "## *Q1* What is the largest bear species? \n",
    "## *Q2* What else is interesting about this species?\n",
    "\n",
    "# used for plotting in jupyter notebook\n",
    "%matplotlib inline\n",
    "\n",
    "# plot mass using the dataframe\n",
    "bears_df.plot(kind='bar',x='species',y='mass', title='Mass by species')\n",
    "\n",
    "#####Answers#####\n",
    "# Q1: Ursus spelaeus is the largest bear species\n",
    "# Q2: Theie GC content is similar to other species. However, their molecular weight is not the highest."
   ]
  },
  {
   "cell_type": "code",
   "execution_count": 10,
   "metadata": {
    "colab": {
     "base_uri": "https://localhost:8080/",
     "height": 313
    },
    "id": "9RQuQWAOZk3q",
    "outputId": "453f3ca9-dad6-409a-df96-03d70fe0b8ac"
   },
   "outputs": [
    {
     "data": {
      "text/plain": [
       "<AxesSubplot:title={'center':'molecular weight (y-axis) as a function of GC-content (x-axis)'}, xlabel='GC_content', ylabel='molecular_weight'>"
      ]
     },
     "execution_count": 10,
     "metadata": {},
     "output_type": "execute_result"
    },
    {
     "data": {
      "image/png": "[encoded data removed]",
      "text/plain": [
       "<Figure size 432x288 with 1 Axes>"
      ]
     },
     "metadata": {
      "needs_background": "light"
     },
     "output_type": "display_data"
    }
   ],
   "source": [
    "## 9 ##\n",
    "## Plot a visualization of the molecular weight (y-axis) as a function of GC-content (x-axis).\n",
    "\n",
    "# define data for x-axis and y-axis\n",
    "x_data = molecular_wt_list\n",
    "y_data = gc_content_list\n",
    "\n",
    "# use a scatterplot for a better visualization\n",
    "bears_df.plot(kind='scatter',x=\"GC_content\",y=\"molecular_weight\", title='molecular weight (y-axis) as a function of GC-content (x-axis)')\n"
   ]
  },
  {
   "cell_type": "code",
   "execution_count": 13,
   "metadata": {
    "id": "QxRrOto9Zm3o"
   },
   "outputs": [],
   "source": [
    "## 10 ##\n",
    "## Save the new DataFrame to a file called \"bears_mass_cytb.csv\"\n",
    "bears_df.to_csv('bears_mass_cytb.csv', index=False)"
   ]
  },
  {
   "cell_type": "code",
   "execution_count": 22,
   "metadata": {
    "id": "Iv8DxzzYZpzq"
   },
   "outputs": [],
   "source": [
    "## 11 - BONUS ##\n",
    "## What else can we do with this dataset in Python? \n",
    "## Add functions or anything that might be interesting and fun. (optional)"
   ]
  },
  {
   "cell_type": "code",
   "execution_count": 11,
   "metadata": {},
   "outputs": [
    {
     "name": "stdout",
     "output_type": "stream",
     "text": [
      "                  species     mass  molecular_weight  GC_content\n",
      "0          Ursus spelaeus  550.800        42458.7992    0.437719\n",
      "1            Ursus arctos  203.500        42414.7435    0.437719\n",
      "2        Ursus thibetanus   99.714        42306.6735    0.456140\n",
      "3        Melursus ursinus  100.030        42551.9900    0.451754\n",
      "4        Ursus americanus  110.560        42427.7439    0.439474\n",
      "5     Helarctos malayanus   47.020        42560.8910    0.442982\n",
      "6  Ailuropoda melanoleuca  118.200        42702.1845    0.407895\n",
      "7      Tremarctos ornatus  140.700        42384.8266    0.443860\n",
      "8         Ursus maritimus  425.100        42454.7873    0.442982\n"
     ]
    }
   ],
   "source": [
    "# read saved csv file again\n",
    "file3 = 'bears_mass_cytb.csv'\n",
    "newBears_df = pd.read_csv(file3)\n",
    "print(newBears_df)"
   ]
  },
  {
   "cell_type": "code",
   "execution_count": 12,
   "metadata": {
    "id": "JEddqw8Sb9fS"
   },
   "outputs": [],
   "source": [
    "def at_content(dna_string):\n",
    "    # get the number of times 'A' appears in the input dna string\n",
    "    a_count = dna_string.count(\"A\")\n",
    "    \n",
    "    # get the number of times 'T' appears in the input dna string\n",
    "    t_count = dna_string.count(\"T\")\n",
    "    \n",
    "    # get the length of the input dna string\n",
    "    string_length = len(dna_string)\n",
    "    \n",
    "    # calculate gc content\n",
    "    at = (a_count+t_count)/string_length\n",
    "    return  at"
   ]
  },
  {
   "cell_type": "code",
   "execution_count": 13,
   "metadata": {},
   "outputs": [
    {
     "name": "stdout",
     "output_type": "stream",
     "text": [
      "                  species     mass  molecular_weight  GC_content  AT_content\n",
      "0          Ursus spelaeus  550.800        42458.7992    0.437719         NaN\n",
      "1            Ursus arctos  203.500        42414.7435    0.437719         NaN\n",
      "2        Ursus thibetanus   99.714        42306.6735    0.456140         NaN\n",
      "3        Melursus ursinus  100.030        42551.9900    0.451754         NaN\n",
      "4        Ursus americanus  110.560        42427.7439    0.439474         NaN\n",
      "5     Helarctos malayanus   47.020        42560.8910    0.442982         NaN\n",
      "6  Ailuropoda melanoleuca  118.200        42702.1845    0.407895         NaN\n",
      "7      Tremarctos ornatus  140.700        42384.8266    0.443860         NaN\n",
      "8         Ursus maritimus  425.100        42454.7873    0.442982         NaN\n"
     ]
    }
   ],
   "source": [
    "newBears_df[\"AT_content\"] = np.nan\n",
    "print(newBears_df)"
   ]
  },
  {
   "cell_type": "code",
   "execution_count": 14,
   "metadata": {
    "colab": {
     "base_uri": "https://localhost:8080/"
    },
    "id": "fQAMB2AeccR1",
    "outputId": "e38c6f4d-75a1-469f-dbfa-3e7f6e285525"
   },
   "outputs": [],
   "source": [
    "at_content_list = []\n",
    "# gc_content_list = []\n",
    "for key, value in cytb_seqs.items():\n",
    "    \n",
    "    # compute the AT content\n",
    "    at_prop = at_content(value)\n",
    "    \n",
    "    # append the computed values of GC_content and\n",
    "    # molecular_weight to our previously defined lists\n",
    "    at_content_list.append(at_prop)\n"
   ]
  },
  {
   "cell_type": "code",
   "execution_count": 33,
   "metadata": {
    "colab": {
     "base_uri": "https://localhost:8080/"
    },
    "id": "wXNb7n_vekxu",
    "outputId": "3fbb2140-b556-4d0f-c226-60af40fd1741",
    "scrolled": true
   },
   "outputs": [
    {
     "name": "stdout",
     "output_type": "stream",
     "text": [
      "                  species     mass  molecular_weight  GC_content  AT_content\n",
      "0          Ursus spelaeus  550.800        42458.7992    0.437719    0.562281\n",
      "1            Ursus arctos  203.500        42414.7435    0.437719    0.562281\n",
      "2        Ursus thibetanus   99.714        42306.6735    0.456140    0.543860\n",
      "3        Melursus ursinus  100.030        42551.9900    0.451754    0.548246\n",
      "4        Ursus americanus  110.560        42427.7439    0.439474    0.560526\n",
      "5     Helarctos malayanus   47.020        42560.8910    0.442982    0.557018\n",
      "6  Ailuropoda melanoleuca  118.200        42702.1845    0.407895    0.592105\n",
      "7      Tremarctos ornatus  140.700        42384.8266    0.443860    0.556140\n",
      "8         Ursus maritimus  425.100        42454.7873    0.442982    0.557018\n"
     ]
    }
   ],
   "source": [
    "newBears_df[\"AT_content\"] = at_content_list\n",
    "print(newBears_df)"
   ]
  },
  {
   "cell_type": "code",
   "execution_count": 34,
   "metadata": {
    "colab": {
     "base_uri": "https://localhost:8080/",
     "height": 812
    },
    "id": "T58rz56IdM_A",
    "outputId": "fd97f9c9-ff5c-4920-c783-69def8042ce7"
   },
   "outputs": [
    {
     "data": {
      "text/plain": [
       "<matplotlib.axes._subplots.AxesSubplot at 0x2abef5f6b80>"
      ]
     },
     "execution_count": 34,
     "metadata": {},
     "output_type": "execute_result"
    },
    {
     "data": {
      "image/png": "[encoded data removed]",
      "text/plain": [
       "<Figure size 432x288 with 1 Axes>"
      ]
     },
     "metadata": {
      "needs_background": "light"
     },
     "output_type": "display_data"
    },
    {
     "data": {
      "image/png": "[encoded data removed]",
      "text/plain": [
       "<Figure size 432x288 with 1 Axes>"
      ]
     },
     "metadata": {
      "needs_background": "light"
     },
     "output_type": "display_data"
    }
   ],
   "source": [
    "import matplotlib.pyplot as plt\n",
    "\n",
    "## Plot a visualization of the mass (y-axis) as a function of AT-content (x-axis).\n",
    "\n",
    "bears_df.plot(kind='bar',x='species',y='AT_content', title='AT_Content by species')\n",
    "bears_df.plot(kind='bar',x='species',y='GC_content', title='GC_Content by species')\n"
   ]
  },
  {
   "cell_type": "code",
   "execution_count": null,
   "metadata": {},
   "outputs": [],
   "source": []
  }
 ],
 "metadata": {
  "colab": {
   "collapsed_sections": [],
   "name": "sequence_translate.ipynb",
   "provenance": []
  },
  "kernelspec": {
   "display_name": "Python 3",
   "language": "python",
   "name": "python3"
  },
  "language_info": {
   "codemirror_mode": {
    "name": "ipython",
    "version": 3
   },
   "file_extension": ".py",
   "mimetype": "text/x-python",
   "name": "python",
   "nbconvert_exporter": "python",
   "pygments_lexer": "ipython3",
   "version": "3.8.5"
  }
 },
 "nbformat": 4,
 "nbformat_minor": 1
}
